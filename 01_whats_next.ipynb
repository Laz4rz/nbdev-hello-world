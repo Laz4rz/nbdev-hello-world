{
 "cells": [
  {
   "cell_type": "markdown",
   "id": "0a3a8cff",
   "metadata": {},
   "source": [
    "# whats next\n",
    "\n",
    "> Something about the future"
   ]
  },
  {
   "cell_type": "code",
   "execution_count": null,
   "id": "28e0cbfc",
   "metadata": {},
   "outputs": [],
   "source": [
    "assert \"dupa\" == \"dupa\""
   ]
  },
  {
   "cell_type": "code",
   "execution_count": null,
   "id": "0cb842b9",
   "metadata": {},
   "outputs": [],
   "source": []
  }
 ],
 "metadata": {
  "kernelspec": {
   "display_name": "Python 3 (ipykernel)",
   "language": "python",
   "name": "python3"
  }
 },
 "nbformat": 4,
 "nbformat_minor": 5
}
